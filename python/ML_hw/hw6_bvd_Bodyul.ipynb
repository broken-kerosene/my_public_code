{
 "cells": [
  {
   "cell_type": "markdown",
   "metadata": {},
   "source": [
    "# Машинное обучение, ФКН ВШЭ\n",
    "\n",
    "## Практическое задание 6. Разложение ошибки на смещение и разброс\n",
    "\n",
    "\n",
    "### Оценивание и штрафы\n",
    "Каждая из задач имеет определенную «стоимость» (указана в скобках около задачи). Максимально допустимая оценка за работу — 10 баллов.\n",
    "\n",
    "Задание выполняется самостоятельно. «Похожие» решения считаются плагиатом и все задействованные студенты (в том числе те, у кого списали) не могут получить за него больше 0 баллов (подробнее о плагиате см. на странице курса). Если вы нашли решение какого-то из заданий (или его часть) в открытом источнике, необходимо указать ссылку на этот источник в отдельном блоке в конце вашей работы (скорее всего вы будете не единственным, кто это нашел, поэтому чтобы исключить подозрение в плагиате, необходима ссылка на источник).\n",
    "\n",
    "Неэффективная реализация кода может негативно отразиться на оценке.\n",
    "\n",
    "### Формат сдачи\n",
    "Задания сдаются через систему anytask. Посылка должна содержать:\n",
    "* Ноутбук homework-practice-06-Username.ipynb\n",
    "\n",
    "Username — ваша фамилия и имя на латинице именно в таком порядке\n",
    "\n",
    "### О задании\n",
    "\n",
    "В этом задании вам предстоит воспользоваться возможностями бутстрапа для оценки смещения и разброса алгоритмов машинного обучения. Делать мы это будем на данных boston:"
   ]
  },
  {
   "cell_type": "code",
   "execution_count": 105,
   "metadata": {},
   "outputs": [],
   "source": [
    "import numpy as np\n",
    "import pandas as pd\n",
    "from matplotlib import pyplot as plt"
   ]
  },
  {
   "cell_type": "code",
   "execution_count": 106,
   "metadata": {},
   "outputs": [],
   "source": [
    "from sklearn.datasets import load_boston"
   ]
  },
  {
   "cell_type": "code",
   "execution_count": 107,
   "metadata": {},
   "outputs": [],
   "source": [
    "boston = load_boston()"
   ]
  },
  {
   "cell_type": "code",
   "execution_count": 108,
   "metadata": {},
   "outputs": [],
   "source": [
    "#X = boston[\"data\"]\n",
    "X = pd.DataFrame(data=boston[\"data\"], columns=boston['feature_names'])\n",
    "y = pd.Series(boston[\"target\"])"
   ]
  },
  {
   "cell_type": "code",
   "execution_count": 109,
   "metadata": {},
   "outputs": [
    {
     "data": {
      "text/plain": [
       "((506, 13), (506,))"
      ]
     },
     "execution_count": 109,
     "metadata": {},
     "output_type": "execute_result"
    }
   ],
   "source": [
    "X.shape, y.shape"
   ]
  },
  {
   "cell_type": "markdown",
   "metadata": {},
   "source": [
    "### Вычисление bias и variance с помощью бутстрапа\n",
    "На лекции была выведено следующая формула, показывающая, как можно представить ошибку алгоритма регрессии в виде суммы трех компонент:\n",
    "$$\n",
    "L(\\mu) = \n",
    "    \\mathbb{E}_{x, y}\\bigl[\\mathbb{E}_{X}\\bigl[ (y - \\mu(X)(x))^2 \\bigr]\\bigr] = \n",
    "$$\n",
    "$$\n",
    "    \\underbrace{\\mathbb{E}_{x, y}\\bigl[(y - \\mathbb{E}[y|x] )^2\\bigr]}_{\\text{шум}} + \\underbrace{\\mathbb{E}_{x}\\bigl[(\\mathbb{E}_{X}[\\mu(X)(x)] - \\mathbb{E}[y|x] )^2\\bigr]}_{\\text{смещение}} +\n",
    "    \\underbrace{\\mathbb{E}_{x}\\bigl[\\mathbb{E}_{X}\\bigl[(\\mu(X)(x) - \\mathbb{E}_{X}[\\mu(X)(x)] )^2\\bigr]\\bigr]}_{\\text{разброс}},\n",
    "$$\n",
    "* $\\mu(X)$ — алгоритм, обученный по выборке $X = \\{(x_1, y_1), \\dots (x_\\ell, y_\\ell)\\}$;\n",
    "* $\\mu(X)(x)$ — ответ алгоритма, обученного по выборке $X$, на объекте $x$;\n",
    "* $\\mathbb{E}_{X}$ — мат. ожидание по всем возможным выборкам;\n",
    "* $\\mathbb{E}_{X}[\\mu(X)(x)]$ — \"средний\" ответ алгоритма, обученного по всем возможным выборкам $X$, на объекте $x$.\n",
    "    \n",
    "С помощью этой формулы мы можем анализировать свойства алгоритма обучения модели $\\mu$, если зададим вероятностную модель порождения пар $p(x, y)$.\n",
    "\n",
    "В реальных задачах мы, конечно же, не знаем распределение на парах объект - правильный ответ. Однако у нас есть набор семплов из этого распределения (обучающую выборка), и мы можем использовать его, чтобы оценивать математические ожидания. Для оценки мат. ожиданий по выборкам мы будем пользоваться бутстрэпом - методом генерации \"новых\" выборок из одной с помощью выбора объектов с возвращением. Разберем несколько шагов на пути к оценке смещения и разброса.\n",
    "\n",
    "#### Приближенное вычисление интегралов\n",
    "На занятиях мы разбирали примеры аналитического вычисления смещения и разброса нескольких алгоритмов обучения. Для большинства моделей данных и алгоритмов обучения аналитически рассчитать математические ожидания в формулах не удастся. Однако мат. ожидания можно оценивать приближенно. Чтобы оценить математическое ожидание $\\mathbb{E}_{\\bar z} f(\\bar z)$ функции от многомерной случайной величины $\\bar z = (z_1, \\dots, z_d)$, $\\bar z \\sim p(\\bar z)$, можно сгенерировать выборку из распределения $p(\\bar z)$ и усреднить значение функции на элементах этой выборки:\n",
    "$$\\mathbb{E}_{\\bar z} f(z) = \\int f(\\bar z) p(\\bar z) d \\bar z \\approx \\frac 1 m \\sum_{i=1}^m f(\\bar z_i), \\, \\bar z_i \\sim p(\\bar z), i = 1, \\dots, m.$$\n",
    "\n",
    "Например, оценим $\\mathbb{E}_z z^2,$ $z \\sim \\mathcal{N}(\\mu=5, \\sigma=3)$ (из теории вероятностей мы знаем, что\n",
    "$\\mathbb{E}_z z^2 = \\sigma^2 + \\mu^2 = 34$):"
   ]
  },
  {
   "cell_type": "code",
   "execution_count": 110,
   "metadata": {},
   "outputs": [
    {
     "data": {
      "text/plain": [
       "33.95498391241003"
      ]
     },
     "execution_count": 110,
     "metadata": {},
     "output_type": "execute_result"
    }
   ],
   "source": [
    "z = np.random.normal(loc=5, scale=3, size=100000)\n",
    "(z**2).mean()"
   ]
  },
  {
   "cell_type": "markdown",
   "metadata": {},
   "source": [
    "#### Оценивание $\\mathbb{E}_{x, y}$\n",
    "Оценить мат. ожидания по $x$ и по $x, y$, встречающиеся во всех трех компонентах разложения, несложно, потому что у нас есть выборка объектов из распределения данных $p(x, y)$:\n",
    "$$ \\mathbb{E}_{x} f(x) \\approx \\frac 1 N \\sum_{i=1}^N f(x_i), \\quad\n",
    "\\mathbb{E}_{x, y} f(x, y) \\approx \\frac 1 N \\sum_{i=1}^N f(x_i, y_i),$$\n",
    "где $N$ - число объектов в выборке, $\\{(x_i, y_i)\\}_{i=1}^N$ - сама выборка. \n",
    "\n",
    "#### Оценивание $\\mathbb{E}_X$ с помощью бутстрапа\n",
    "Чтобы оценить мат. ожидание по $X$, нам понадобится выборка из выборок:\n",
    "$$\\mathbb{E}_X f(X) \\approx \\frac 1 s \\sum_{j=1}^s f(X_j),$$\n",
    "где $X_j$ - $j$-я выборка. Чтобы их получить, мы можем воспользоваться бутстрапом - методом генерации выборок на основе выбора объектов с возвращением. Чтобы составить одну выборку, будем $N$ раз выбирать индекс объекта $i \\sim \\text{Uniform}(1 \\dots N)$ и добавлять $i$-ю пару (объект, целевая переменная) в выборку. В результате в каждой выборке могут появиться повторяющиеся объекты, а какие-то объекты могут вовсе не войти в некоторые выборки.\n",
    "\n",
    "#### Итоговый алгоритм оценки смещения и разброса алгоритма $a$\n",
    "1. Сгенерировать $s$ выборок $X_j$ методом бутстрапа.\n",
    "1. На каждой выборке $X_j$ обучить алгоритм $a_j$.\n",
    "1. Для каждой выборки $X_j$ определить множество объектов $T_j$, не вошедших в нее (out-of-bag). Вычислить предсказания алгоритма $a_j$ на объектах $T_j$. \n",
    "\n",
    "Поскольку у нас есть только один ответ для каждого объекта, мы будем считать шум равным 0, а $\\mathbb{E}[y|x]$ равным имеющемуся правильному ответу для объекта $x$. \n",
    "\n",
    "Итоговые оценки:\n",
    "* Смещение: для одного объекта - квадрат разности среднего предсказания и правильного ответа. Среднее предсказание берется только по тем алгоритмам $a_j$, для которых этот объект входил в out-of-bag выборку $T_j$. Для получения общего смещения выполнить усреденение смещений по объектам.\n",
    "* Разброс: для одного объекта - выборочная дисперсия предсказаний алгоритмов $a_j$, для которых этот объект входил в out-of-bag выборку $T_j$. Для получения общего разброса выполнить усреденение разбросов по объектам.\n",
    "* Ошибка $L$: усреднить квадраты разностей предсказания и правильного ответа по всем выполненным предсказаниям для всех объектов.\n",
    "\n",
    "В результате должно получиться, что ошибка приблизительно равна сумме смещения и разброса!\n",
    "\n",
    "Алгоритм также вкратце описан по [ссылке](https://web.engr.oregonstate.edu/~tgd/classes/534/slides/part9.pdf) (слайды 19-21).\n",
    "\n",
    "__1. (3 балла)__\n",
    "\n",
    "Реализуйте описанный алгоритм. Обратите внимание, что если объект не вошел ни в одну из out-of-bag выборок, учитывать его в вычислении итоговых величин не нужно. Как обычно, разрешается использовать только один цикл - по выборкам (от 0 до num_runs-1)."
   ]
  },
  {
   "cell_type": "code",
   "execution_count": 111,
   "metadata": {},
   "outputs": [],
   "source": [
    "X = pd.DataFrame(data=boston[\"data\"], columns=boston['feature_names'])\n",
    "y = pd.Series(boston[\"target\"])\n",
    "\n",
    "def compute_biase_variance(clf, X, y, num_runs=1000):\n",
    "    \"\"\"\n",
    "    :param regressor: sklearn estimator with fit(...) and predict(...) method\n",
    "    :param X: numpy-array representing training set ob objects, shape [n_obj, n_feat]\n",
    "    :param y: numpy-array representing target for training objects, shape [n_obj]\n",
    "    :param num_runs: int, number of samples (s in the description of the algorithm)\n",
    "    \n",
    "    :returns: bias (float), variance (float), error (float) \n",
    "    each value is computed using bootstrap\n",
    "    \"\"\"\n",
    "    ### your code here\n",
    "    # блок инициализации\n",
    "    result = np.zeros((X.shape[0], 4))\n",
    "    result = pd.DataFrame(result)\n",
    "    bias = 0\n",
    "    variance = 0\n",
    "    mse = 0\n",
    "\n",
    "    for i in range(num_runs):\n",
    "        np.random.seed(i)\n",
    "        # выделение бустрапа и out-of-bag значений\n",
    "        bs = np.random.randint(X.shape[0], size=X.shape[0])\n",
    "        inv_bs = np.setdiff1d(np.arange(X.shape[0]), bs)\n",
    "        # обучение регрессора\n",
    "        clf.fit(X.iloc[bs], y.iloc[bs])\n",
    "        pred = clf.predict(X.iloc[inv_bs])\n",
    "        # подготовка данных для последующих расчётов    \n",
    "        result.iloc[inv_bs, 0] += 1\n",
    "        result.iloc[inv_bs, 1] += pred\n",
    "        result.iloc[inv_bs, 2] += pred**2\n",
    "        result.iloc[inv_bs, 3] += (pred - y.iloc[inv_bs])**2\n",
    "    \n",
    "    #Определение не нулевых строк\n",
    "    valid_in = result.iloc[:, 0] > 0\n",
    "    # подготовка значений\n",
    "    E_Mu_X = result.loc[valid_in, 1] / result.loc[valid_in, 0]\n",
    "    #Вычисление смещения\n",
    "    bias = (E_Mu_X - y.loc[valid_in])**2\n",
    "    bias = np.mean(bias)\n",
    "    #Вычисление смещения\n",
    "    variance = result.loc[valid_in, 2]/result.loc[valid_in, 0] - (E_Mu_X)**2\n",
    "    variance = np.mean(variance)\n",
    "    #Вычисление ошибки\n",
    "    error = result.loc[valid_in, 3] / result.loc[valid_in, 0]\n",
    "    error = np.mean(error)\n",
    "    \n",
    "    return bias, variance, error"
   ]
  },
  {
   "cell_type": "markdown",
   "metadata": {},
   "source": [
    "__2. (0 баллов)__\n",
    "\n",
    "Оцените смещение, разброс и ошибку для трех алгоритмов с гиперпараметрами по умолчанию: линейная регрессия, решающее дерево, случайный лес."
   ]
  },
  {
   "cell_type": "code",
   "execution_count": 112,
   "metadata": {},
   "outputs": [
    {
     "name": "stdout",
     "output_type": "stream",
     "text": [
      "LinearRegression\t Смещение: 24.208692818315935,\t Разброс: 0.6066525122886902,\t Ошибка: 24.815345330604604\n",
      "DecisionTreeRegressor\t Смещение: 15.484112719558713,\t Разброс: 8.968214377946946,\t Ошибка: 24.45232709750565\n",
      "RandomForestRegressor\t Смещение: 12.450016157689964,\t Разброс: 1.5148092395346275,\t Ошибка: 13.96482539722458\n"
     ]
    }
   ],
   "source": [
    "from sklearn.linear_model import LinearRegression\n",
    "from sklearn.tree import DecisionTreeRegressor\n",
    "from sklearn.ensemble import RandomForestRegressor\n",
    "\n",
    "clf = LinearRegression()\n",
    "dtr = DecisionTreeRegressor()\n",
    "rfr = RandomForestRegressor()\n",
    "num_runs = 10\n",
    "\n",
    "def print_func(clf, clf_name):\n",
    "        bias, variance, error = compute_biase_variance(clf, X, y, num_runs)\n",
    "        print(f'{clf_name}\\t Смещение: {bias},\\t Разброс: {variance},\\t Ошибка: {error}')\n",
    "\n",
    "print_func(clf, 'LinearRegression')\n",
    "print_func(dtr, 'DecisionTreeRegressor')\n",
    "print_func(rfr, 'RandomForestRegressor')"
   ]
  },
  {
   "cell_type": "markdown",
   "metadata": {},
   "source": [
    "__3. (1 балл)__\n",
    "Проанализируйте полученный результат. Согласуются ли полученные результаты с теми, что мы обсуждали на занятиях (с комментарием)?\n",
    "\n",
    "__Your answer here:__\n",
    "По результатам моделирования видно следующее:  \n",
    "&nbsp;&nbsp;&nbsp;– линейная модель обладает наименьшим разбросом, однако она не может приблизиться к нелинейной зависимости в данных;  \n",
    "&nbsp;&nbsp;&nbsp;– решающие деревья лучше подстраивается под зависимости исследуемого датасета т.е. смещение алгоритма по сравнению с линейной моделью меньше, но из-за склонности алгоритма к переобучению значительно увеличивается разброс модели. суммарная ошибка по сравнению с линейной моделью практически не изменилась;  \n",
    "&nbsp;&nbsp;&nbsp;– случайны лес на данной выборке демонстрирует наилучшие значения как по смещению, так и по разбросу, суммарная ошибка снижена приблезительно в два раза;"
   ]
  },
  {
   "cell_type": "markdown",
   "metadata": {},
   "source": [
    "__4. (1 балл)__\n",
    "Постройте бэггинг над всеми тремя моделями (линейная регрессия, решающее дерево, случайный лес). Вспомните обсуждение с лекции о том, во сколько раз в теории бэггинг уменьшает разброс базового алгоритма. Выполняется ли это в ваших экспериментах? Если нет, поясните, почему."
   ]
  },
  {
   "cell_type": "code",
   "execution_count": 113,
   "metadata": {},
   "outputs": [
    {
     "name": "stdout",
     "output_type": "stream",
     "text": [
      "BaggingLinearRegression\t\t Смещение: 24.126348400745023,\t Разброс: 0.5988006565887153,\t Ошибка: 24.72514905733373\n",
      "BaggingDecisionTreeRegressor\t Смещение: 12.905657500795783,\t Разброс: 2.279250556806893,\t Ошибка: 15.184908057602684\n",
      "baggingRandomForestRegressor\t Смещение: 13.127924194047084,\t Разброс: 0.8504589493442736,\t Ошибка: 13.97838314339136\n"
     ]
    }
   ],
   "source": [
    "from sklearn.ensemble import BaggingRegressor\n",
    "b_clf = BaggingRegressor(LinearRegression(), n_estimators=10, random_state=0)\n",
    "b_dtr = BaggingRegressor(DecisionTreeRegressor(), n_estimators=10, random_state=0)\n",
    "b_rfr = BaggingRegressor(RandomForestRegressor(), n_estimators=10, random_state=0)\n",
    "\n",
    "print_func(b_clf, 'BaggingLinearRegression\\t')\n",
    "print_func(b_dtr, 'BaggingDecisionTreeRegressor')\n",
    "print_func(b_rfr, 'baggingRandomForestRegressor')"
   ]
  },
  {
   "cell_type": "markdown",
   "metadata": {},
   "source": [
    "__Your answer here:__\n",
    "Бэггинг в теории может уменьшить разброс в N раз, однако из-за статистической связи между моделями это условие не выполняется."
   ]
  },
  {
   "cell_type": "markdown",
   "metadata": {},
   "source": [
    "### Визуализация предсказаний базовых алгоритмов бэггинга\n",
    "\n",
    "В материалах лекций можно найти изображение, похожее на мишень - визуализация алгоритмов с разным смещением и разным разбросом. В центре \"мишени\" - правильный ответ, а \"попадания\" - предсказания алгоритмов, обученных по разным выборкам. Построим похожее изображение на наших данных для трех алгоритмов. Наши \"мишени\" будут одномерными, потому что мы решаем задачу одномерной регрессии.\n",
    "\n",
    "__5. (2 балла)__\n",
    "\n",
    "Реализуйте функцию plot_predictions. Она должна выполнять следующие действия:\n",
    "1. Случайно выбрать num_test_objects пар объект-целевая переменная из выборки X, y. Получится две выборки: маленькая X_test, y_test (выбранные тестовые объекты) и X_train, y_train (остальные объекты).\n",
    "1. Сгенерировать num_runs выборок методом бутстарапа из X_train, y_train. На каждой выборке обучить алгоритм regressor и сделать предсказания для X_test.\n",
    "1. Нарисовать scatter-график. По оси абсцисс - объекты тестовой выборки (номера от 0 до num_test_objects-1), по оси ординат - предсказания. В итоге получится num_test_objects столбиков с точками. Для каждого тестового объекта надо отметить одним цветом все предсказания для него, а также черным цветом отметить правильный ответ.\n",
    "1. Подпишите оси и название графика (аргумент title)."
   ]
  },
  {
   "cell_type": "code",
   "execution_count": 114,
   "metadata": {},
   "outputs": [],
   "source": [
    "from sklearn.model_selection import train_test_split\n",
    "from matplotlib.pyplot import scatter\n",
    "\n",
    "def plot_predictions(regressor, X, y, num_runs=100, num_test_objects=10, title=\"\"):\n",
    "    \"\"\"\n",
    "    plot graphics described above\n",
    "    \"\"\"\n",
    "    ### your code here\n",
    "    #X_train, y_train, X_test, y_test = train_test_split(X, y, test)\n",
    "    np.random.seed(42)\n",
    "    colors = ['red','green', 'blue','orange','yellow','pink','magenta', 'grey', 'brown','purple']\n",
    "    test_ind = np.random.choice(np.arange(X.shape[0]), size=num_test_objects, replace=False )\n",
    "    train_ind = np.setdiff1d(np.arange(X.shape[0]), test_ind)\n",
    "    \n",
    "    X_train, y_train = X.iloc[train_ind], y.iloc[train_ind]\n",
    "    X_test, y_test = X.iloc[test_ind], y.iloc[test_ind]\n",
    "    \n",
    "    for i in range(num_runs):\n",
    "        #np.random.seed(i)\n",
    "        # выделение бустрапа и num_test_objects значений\n",
    "        bs = np.random.randint(X_train.shape[0], size=X_train.shape[0])\n",
    "        inv_bs = np.setdiff1d(np.arange(X_train.shape[0]), bs)\n",
    "        # обучение регрессора\n",
    "        regressor.fit(X_train.iloc[bs], y_train.iloc[bs])\n",
    "        scatter(x=np.arange(10), y=regressor.predict(X_test), c=colors)\n",
    "        pd\n",
    "        \n",
    "    scatter(x=np.arange(10), y=y_test, c='black', s=80)\n",
    "    plt.title(title)\n",
    "    plt.grid('minor')\n",
    "    plt.ylim([0, 55])"
   ]
  },
  {
   "cell_type": "markdown",
   "metadata": {},
   "source": [
    "__6. (0 баллов)__\n",
    "\n",
    "Нарисуйте графики для линейной регрессии, решающего дерева и случайного леса. Нарисуйте три графика в строчку (это можно сделать с помощью plt.subplot) с одинаковой осью ординат (это важно для понимания масштаба разброса у разных алгоритмов):"
   ]
  },
  {
   "cell_type": "code",
   "execution_count": 115,
   "metadata": {},
   "outputs": [
    {
     "data": {
      "image/png": "[encoded data removed]",
      "text/plain": [
       "<Figure size 432x288 with 1 Axes>"
      ]
     },
     "metadata": {
      "needs_background": "light"
     },
     "output_type": "display_data"
    }
   ],
   "source": [
    "plot_predictions(clf, X, y, num_runs=100, num_test_objects=10, title=\"LinearRegression()\")"
   ]
  },
  {
   "cell_type": "code",
   "execution_count": 116,
   "metadata": {
    "scrolled": true
   },
   "outputs": [
    {
     "data": {
      "image/png": "[encoded data removed]",
      "text/plain": [
       "<Figure size 432x288 with 1 Axes>"
      ]
     },
     "metadata": {
      "needs_background": "light"
     },
     "output_type": "display_data"
    }
   ],
   "source": [
    "plot_predictions(dtr, X, y, num_runs=100, num_test_objects=10, title=\"DecisionTreeRegressor()\")"
   ]
  },
  {
   "cell_type": "code",
   "execution_count": 117,
   "metadata": {},
   "outputs": [
    {
     "data": {
      "image/png": "[encoded data removed]",
      "text/plain": [
       "<Figure size 432x288 with 1 Axes>"
      ]
     },
     "metadata": {
      "needs_background": "light"
     },
     "output_type": "display_data"
    }
   ],
   "source": [
    "plot_predictions(rfr, X, y, num_runs=100, num_test_objects=10, title=\"RandomForestRegressor()\")"
   ]
  },
  {
   "cell_type": "markdown",
   "metadata": {},
   "source": [
    "__7. (1 балл)__\n",
    "\n",
    "Для каждого графика прокомментируйте, как он характеризует смещение и разброс соответствующего алгоритма. \n",
    "\n",
    "__Your answer here:__\n",
    "\n",
    "Линейный регрессор:\n",
    "– смещение в моделях большое,чёрные кружки иногда совсем не пересекаются с цветными; Разброс цветных кружков имеет невысокие значения; \n",
    "\n",
    "Решающее дерево:\n",
    "– Черные кружки ближе к середине разброса цветных(умеренное смещение); разброс цветных кружков заметно выше чем у других регрессоров;\n",
    "\n",
    "Случайный лес:\n",
    "   – цветные кружки лежат ближе к чёрным(умеренное смещение, близко к значению решающего дерева); цветные кружки имеют низкий разброс;"
   ]
  },
  {
   "cell_type": "markdown",
   "metadata": {},
   "source": [
    "### Изменение bias и variance при изменении гиперпараметров"
   ]
  },
  {
   "cell_type": "markdown",
   "metadata": {},
   "source": [
    "__8. (0 баллов)__\n",
    "\n",
    "Постройте графики зависимости смещения и разброса от гиперпараметров решающего дерева max_depth (от 1 до 10) и max_features (от 1 до X.shape[1]):"
   ]
  },
  {
   "cell_type": "code",
   "execution_count": 118,
   "metadata": {},
   "outputs": [],
   "source": [
    "### your code here\n",
    "import itertools\n",
    "bias_ = []\n",
    "variance_ = []\n",
    "for i in range(1, 11):\n",
    "    dtr = DecisionTreeRegressor(max_depth=i)\n",
    "    bias, variance, error = compute_biase_variance(dtr, X, y, num_runs=10)\n",
    "    bias_.append(bias)\n",
    "    dtr = DecisionTreeRegressor(max_features=i)\n",
    "    bias, variance, error = compute_biase_variance(dtr, X, y, num_runs=10)\n",
    "    variance_.append(variance)"
   ]
  },
  {
   "cell_type": "code",
   "execution_count": 119,
   "metadata": {},
   "outputs": [
    {
     "data": {
      "image/png": "[encoded data removed]",
      "text/plain": [
       "<Figure size 432x288 with 1 Axes>"
      ]
     },
     "metadata": {
      "needs_background": "light"
     },
     "output_type": "display_data"
    }
   ],
   "source": [
    "plt.plot(range(1, 11), bias_)\n",
    "plt.xlabel('max_depth');\n",
    "plt.ylabel('Смещение');\n",
    "plt.grid()"
   ]
  },
  {
   "cell_type": "code",
   "execution_count": 120,
   "metadata": {},
   "outputs": [
    {
     "data": {
      "image/png": "[encoded data removed]",
      "text/plain": [
       "<Figure size 432x288 with 1 Axes>"
      ]
     },
     "metadata": {
      "needs_background": "light"
     },
     "output_type": "display_data"
    }
   ],
   "source": [
    "plt.plot(range(1, 11), variance_)\n",
    "plt.xlabel('max_features');\n",
    "plt.ylabel('Разброс');\n",
    "plt.grid()"
   ]
  },
  {
   "cell_type": "markdown",
   "metadata": {},
   "source": [
    "__9. (0 баллов)__\n",
    "\n",
    "Постройте графики зависимости смещения и разброса от n_estimators (по сетке 2**np.arange(1, 10)) для случайного леса и градиентного бустинга:"
   ]
  },
  {
   "cell_type": "code",
   "execution_count": 121,
   "metadata": {},
   "outputs": [],
   "source": [
    "from sklearn.ensemble import GradientBoostingRegressor\n",
    "b_n_v = pd.DataFrame(columns=['bias', 'variance'],index=list(2**np.arange(1, 10)))\n",
    "g_b_r = pd.DataFrame(columns=['bias', 'variance'], index=list(2**np.arange(1, 10)))\n",
    "### your code here\n",
    "for i in 2**np.arange(1, 10):\n",
    "    dtr = RandomForestRegressor(n_estimators=i)\n",
    "    bias, variance, error = compute_biase_variance(dtr, X, y, num_runs=10)\n",
    "    b_n_v['bias'].loc[i]=bias\n",
    "    b_n_v['variance'].loc[i]=variance\n",
    "    gbr = GradientBoostingRegressor(n_estimators=i)\n",
    "    bias, variance, error = compute_biase_variance(gbr, X, y, num_runs=10)\n",
    "    g_b_r['bias'].loc[i]=bias\n",
    "    g_b_r['variance'].loc[i]=variance"
   ]
  },
  {
   "cell_type": "code",
   "execution_count": 122,
   "metadata": {
    "scrolled": true
   },
   "outputs": [
    {
     "data": {
      "image/png": "[encoded data removed]",
      "text/plain": [
       "<Figure size 432x288 with 1 Axes>"
      ]
     },
     "metadata": {
      "needs_background": "light"
     },
     "output_type": "display_data"
    }
   ],
   "source": [
    "plt.plot(2**np.arange(1, 10), b_n_v['bias'])\n",
    "plt.title('RandomForestRegressor')\n",
    "plt.xlabel('n_estimators');\n",
    "plt.ylabel('Смещение');\n",
    "plt.grid()"
   ]
  },
  {
   "cell_type": "code",
   "execution_count": 123,
   "metadata": {
    "scrolled": true
   },
   "outputs": [
    {
     "data": {
      "image/png": "[encoded data removed]",
      "text/plain": [
       "<Figure size 432x288 with 1 Axes>"
      ]
     },
     "metadata": {
      "needs_background": "light"
     },
     "output_type": "display_data"
    }
   ],
   "source": [
    "plt.plot(2**np.arange(1, 10), b_n_v['variance'])\n",
    "plt.title('GradientBoostingRegressor')\n",
    "plt.xlabel('n_estimators');\n",
    "plt.ylabel('Разброс');\n",
    "plt.grid()"
   ]
  },
  {
   "cell_type": "code",
   "execution_count": 124,
   "metadata": {},
   "outputs": [
    {
     "data": {
      "image/png": "[encoded data removed]",
      "text/plain": [
       "<Figure size 432x288 with 1 Axes>"
      ]
     },
     "metadata": {
      "needs_background": "light"
     },
     "output_type": "display_data"
    }
   ],
   "source": [
    "plt.plot(2**np.arange(1, 10), g_b_r['bias'])\n",
    "plt.title('RandomForestRegressor')\n",
    "plt.xlabel('n_estimators');\n",
    "plt.ylabel('Смещение');\n",
    "plt.grid()"
   ]
  },
  {
   "cell_type": "code",
   "execution_count": 125,
   "metadata": {},
   "outputs": [
    {
     "data": {
      "image/png": "[encoded data removed]",
      "text/plain": [
       "<Figure size 432x288 with 1 Axes>"
      ]
     },
     "metadata": {
      "needs_background": "light"
     },
     "output_type": "display_data"
    }
   ],
   "source": [
    "plt.plot(np.log10(2**np.arange(1, 10)), g_b_r['variance'])\n",
    "plt.title('GradientBoostingRegressor')\n",
    "plt.xlabel('n_estimators');\n",
    "plt.ylabel('Разброс, log10');\n",
    "plt.grid()"
   ]
  },
  {
   "cell_type": "markdown",
   "metadata": {},
   "source": [
    "__10. (2 балла)__\n",
    "\n",
    "Прокомментируйте графики (всего 4 графика): почему они имеют такой вид.\n",
    "\n",
    "__Your answer here:__\n",
    "Решующее дерево:  \n",
    "– с увеличением максимальной глубины(max_depth) смещение снижается до max_depth=6, после выходит на плато и послеmax_depth=8 снова возрастает из-за переобучения;\n",
    "– с увеличением число признаков, по которым ищется разбиение(max_features)  разброс снижается.\n",
    "\n",
    "Случайный лес:  \n",
    "– с увеличением числа деревьев(n_estimators) по закону 2^n происходит снижение смещения и разброса, после значения n_estimators=256 значения не изменяются; смещение имеет явный минимум на значении n_estimators=128;\n",
    "\n",
    "Градиентный бустинг:  \n",
    "\n",
    "– с увеличением максимальноuj количество итераций, при котором бустинг прекращается(n_estimators). В случае идеальной подгонки процедура обучения прекращается досрочноn_estimators по закону 2^n происходит снижение смещения и достигается минимальное значение при n_estimators=256 ;\n",
    "\n",
    "– с увеличением n_estimators по закону 2^n происходит увеличение разброса по логарифмическому закону;\n"
   ]
  },
  {
   "cell_type": "markdown",
   "metadata": {
    "pycharm": {
     "name": "#%% md\n"
    }
   },
   "source": [
    "Вставьте картинку, описывающую ваш опыт выполнения этого ДЗ."
   ]
  },
  {
   "cell_type": "code",
   "execution_count": null,
   "metadata": {
    "pycharm": {
     "name": "#%%\n"
    }
   },
   "outputs": [],
   "source": []
  }
 ],
 "metadata": {
  "kernelspec": {
   "display_name": "Python 3",
   "language": "python",
   "name": "python3"
  },
  "language_info": {
   "codemirror_mode": {
    "name": "ipython",
    "version": 3
   },
   "file_extension": ".py",
   "mimetype": "text/x-python",
   "name": "python",
   "nbconvert_exporter": "python",
   "pygments_lexer": "ipython3",
   "version": "3.8.8"
  },
  "toc": {
   "base_numbering": 1,
   "nav_menu": {},
   "number_sections": true,
   "sideBar": true,
   "skip_h1_title": true,
   "title_cell": "Table of Contents",
   "title_sidebar": "Contents",
   "toc_cell": false,
   "toc_position": {},
   "toc_section_display": true,
   "toc_window_display": false
  },
  "varInspector": {
   "cols": {
    "lenName": 16,
    "lenType": 16,
    "lenVar": 40
   },
   "kernels_config": {
    "python": {
     "delete_cmd_postfix": "",
     "delete_cmd_prefix": "del ",
     "library": "var_list.py",
     "varRefreshCmd": "print(var_dic_list())"
    },
    "r": {
     "delete_cmd_postfix": ") ",
     "delete_cmd_prefix": "rm(",
     "library": "var_list.r",
     "varRefreshCmd": "cat(var_dic_list()) "
    }
   },
   "types_to_exclude": [
    "module",
    "function",
    "builtin_function_or_method",
    "instance",
    "_Feature"
   ],
   "window_display": false
  }
 },
 "nbformat": 4,
 "nbformat_minor": 2
}
